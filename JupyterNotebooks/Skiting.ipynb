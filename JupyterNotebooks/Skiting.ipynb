{
 "cells": [
  {
   "cell_type": "code",
   "execution_count": 1,
   "metadata": {},
   "outputs": [
    {
     "name": "stdout",
     "output_type": "stream",
     "text": [
      "['PHOTO-2022-12-13-13-24-09 3_0_0.png', 'PHOTO-2022-12-13-13-24-09 3_0_1.png', 'PHOTO-2022-12-13-13-24-10 4_0_0.png', 'PHOTO-2022-12-13-13-24-10 4_0_1.png', 'PHOTO-2022-12-13-13-24-10_0_0.png', 'PHOTO-2022-12-13-13-24-10_0_1.png', 'PHOTO-2022-12-13-13-24-11 3_0_0.png', 'PHOTO-2022-12-13-13-24-11 3_0_1.png', 'PHOTO-2022-12-13-13-24-12 4_0_0.png', 'PHOTO-2022-12-13-13-24-12 4_0_1.png', 'PHOTO-2022-12-13-13-24-12_0_0.png', 'PHOTO-2022-12-13-13-24-12_0_1.png', 'PHOTO-2023-03-07-15-09-04 2_0_0.png', 'PHOTO-2023-03-07-15-09-04 2_0_1.png', 'PHOTO-2023-03-07-15-09-04 2_1_0.png', 'PHOTO-2023-03-07-15-09-04 2_1_1.png', 'PHOTO-2023-03-07-15-09-04 2_2_0.png', 'PHOTO-2023-03-07-15-09-04 2_2_1.png', 'PHOTO-2023-03-07-15-09-04 3_0_0.png', 'PHOTO-2023-03-07-15-09-04 3_0_1.png', 'PHOTO-2023-03-07-15-09-04 3_1_0.png', 'PHOTO-2023-03-07-15-09-04 3_1_1.png', 'PHOTO-2023-03-07-15-09-04 3_2_0.png', 'PHOTO-2023-03-07-15-09-04 3_2_1.png', 'PHOTO-2023-03-07-15-09-04 4_0_0.png', 'PHOTO-2023-03-07-15-09-04 4_0_1.png', 'PHOTO-2023-03-07-15-09-04 4_1_0.png', 'PHOTO-2023-03-07-15-09-04 4_1_1.png', 'PHOTO-2023-03-07-15-09-04 4_2_0.png', 'PHOTO-2023-03-07-15-09-04 4_2_1.png', 'PHOTO-2023-03-07-15-09-04 5_0_0.png', 'PHOTO-2023-03-07-15-09-04 5_0_1.png', 'PHOTO-2023-03-07-15-09-04 5_1_0.png', 'PHOTO-2023-03-07-15-09-04 5_1_1.png', 'PHOTO-2023-03-07-15-09-04 5_2_0.png', 'PHOTO-2023-03-07-15-09-04 5_2_1.png']\n"
     ]
    }
   ],
   "source": [
    "import os\n",
    "image_path = 'C:\\Disco E\\Projects\\Papers\\Generador\\TestingData\\Fotos Dr. Esteban\\Selected\\Results'\n",
    "dir_list = os.listdir(image_path)\n",
    "print(dir_list)"
   ]
  },
  {
   "cell_type": "code",
   "execution_count": 2,
   "metadata": {},
   "outputs": [],
   "source": [
    "import cv2\n",
    "import numpy as np"
   ]
  },
  {
   "cell_type": "code",
   "execution_count": 3,
   "metadata": {},
   "outputs": [
    {
     "name": "stdout",
     "output_type": "stream",
     "text": [
      "2\n",
      "new image\n",
      "4\n",
      "new image\n",
      "6\n",
      "new image\n",
      "8\n",
      "new image\n",
      "10\n",
      "new image\n",
      "12\n",
      "new image\n",
      "new image\n",
      "new image\n",
      "new image\n"
     ]
    }
   ],
   "source": [
    "prev_j = 0\n",
    "prev_i = 0\n",
    "boolean = False\n",
    "img_prev = cv2.imread(image_path + \"\\\\\" + dir_list[0])\n",
    "\n",
    "\n",
    "\n",
    "for f in range(1,len(dir_list)):     \n",
    "    i = int(dir_list[f][-7:-6])\n",
    "    j = int(dir_list[f][-5:-4])\n",
    "    actual_img = cv2.imread(image_path + \"\\\\\" + dir_list[f])\n",
    "    #leo imagen actual\n",
    "    #si es una imagen nueva entonces reinicio variables\n",
    "    if(i==0 and j==0):\n",
    "        if(boolean == False ): #2,0 is problem\n",
    "            print(f)\n",
    "            prev_vertical = img_prev\n",
    "            cv2.imshow(\"fist vertical prev\" +str(f),prev_vertical)\n",
    "            cv2.waitKey(0)  \n",
    "        else:\n",
    "            prev_vertical = cv2.hconcat([prev_vertical, img_prev])\n",
    "            cv2.imshow(\"fist vertical prev\" +str(f),prev_vertical)\n",
    "            cv2.waitKey(0)  \n",
    "        prev_j = 0\n",
    "        prev_j = 0\n",
    "        boolean = False\n",
    "        img_prev = actual_img\n",
    "        prev_vertical = actual_img\n",
    "        print(\"new image\", j)\n",
    "    #no es nueva imagen          \n",
    "    \n",
    "    else:\n",
    "        #Si no aumenta en la vertical, aumenta en la horizontal\n",
    "        if(j==0):\n",
    "            boolean = True\n",
    "            #Es primera vez que aumenta en la vertical, se debe guardar como vertical previa\n",
    "            if (i == 1):\n",
    "                #inicializo primera vertical\n",
    "                prev_vertical = img_prev\n",
    "                #new vertical (nueva imagen de 1x1)\n",
    "                img_prev = actual_img\n",
    "                prev_i = prev_i + 1\n",
    "                prev_j = 0\n",
    "\n",
    "            #No es primera vez que aumenta en la vertical, se debe acumular a la horizontal con prev_vertical\n",
    "            else:\n",
    "                #Add horizontal\n",
    "                prev_vertical = cv2.hconcat([prev_vertical, img_prev])\n",
    "                prev_i = prev_i + 1     \n",
    "                #Se inicia nueva vertical para el siguiente\n",
    "                img_prev = actual_img\n",
    "                prev_j = 0\n",
    "\n",
    "        else:\n",
    "            #realizo concatenación vertical\n",
    "            img_prev = cv2.vconcat([img_prev, actual_img])\n",
    "            prev_j = prev_j + 1               \n",
    "                \n",
    "\n",
    "\n",
    "\n",
    "cv2.destroyAllWindows()\n"
   ]
  },
  {
   "cell_type": "code",
   "execution_count": null,
   "metadata": {},
   "outputs": [],
   "source": [
    "prev_j = 0\n",
    "prev_i = 0\n",
    "\n",
    "\n",
    "for f in dir_list:#     \n",
    "    i = int(f[-7:-6])\n",
    "    j = int(f[-5:-4])\n",
    "    #leo imagen actual\n",
    "    actual_img = cv2.imread(image_path + \"\\\\\" + f)\n",
    "    \n",
    "    #si es una imagen nueva entonces reinicio variables\n",
    "    if (i==0 and j==0):\n",
    "        # if(prev_i != 0):\n",
    "        #     prev_vertical = cv2.hconcat([prev_vertical, img_prev])\n",
    "        #     cv2.imshow(\"fist vertical prev\" + str(f) , prev_vertical)\n",
    "        #     cv2.waitKey(0)  \n",
    "\n",
    "        cv2.imshow(\"Verticales acumuladas\" + str(f) , prev_vertical)\n",
    "        prev_j = 0\n",
    "        prev_j = 0\n",
    "        img_prev = actual_img\n",
    "        print(\"new image\")\n",
    "    #no es nueva imagen\n",
    "    else:\n",
    "        # j aumenta en la vertical\n",
    "        if prev_j < j:\n",
    "            #realizo concatenación vertical\n",
    "            img_prev = cv2.vconcat([img_prev, actual_img])\n",
    "            prev_j = prev_j + 1         \n",
    "        #Si no aumenta en la vertical, aumenta en la horizontal\n",
    "        else:\n",
    "            #Es primera vez que aumenta en la vertical, se debe guardar como vertical previa\n",
    "            if (j==0 and i == 1):\n",
    "                #inicializo primera vertical\n",
    "                prev_vertical = img_prev\n",
    "                #new vertical (nueva imagen de 1x1)\n",
    "                img_prev = actual_img\n",
    "                prev_i = prev_i + 1\n",
    "                prev_j = 0\n",
    "\n",
    "            #No es primera vez que aumenta en la vertica, se debe acumular a la horizontal con prev_vertical\n",
    "            if (j==0 and i != 1):\n",
    "                #Add horizontal\n",
    "                prev_vertical = cv2.hconcat([prev_vertical, img_prev])\n",
    "                prev_i = prev_i + 1     \n",
    "                #Se inicia nueva vertical para el siguiente\n",
    "                img_prev = actual_img\n",
    "                prev_j = 0\n",
    "                \n",
    "\n",
    "cv2.destroyAllWindows()\n",
    "\n"
   ]
  },
  {
   "cell_type": "code",
   "execution_count": null,
   "metadata": {},
   "outputs": [],
   "source": []
  }
 ],
 "metadata": {
  "kernelspec": {
   "display_name": "Python 3",
   "language": "python",
   "name": "python3"
  },
  "language_info": {
   "codemirror_mode": {
    "name": "ipython",
    "version": 3
   },
   "file_extension": ".py",
   "mimetype": "text/x-python",
   "name": "python",
   "nbconvert_exporter": "python",
   "pygments_lexer": "ipython3",
   "version": "3.11.1"
  },
  "orig_nbformat": 4
 },
 "nbformat": 4,
 "nbformat_minor": 2
}
