{
 "cells": [
  {
   "cell_type": "code",
   "execution_count": 1,
   "metadata": {},
   "outputs": [
    {
     "name": "stdout",
     "output_type": "stream",
     "text": [
      "Cantidad de diferencias 0\n"
     ]
    }
   ],
   "source": [
    "from PIL import Image\n",
    "\n",
    "def print_diff_positions(image1_path, image2_path):\n",
    "    differences = 0\n",
    "    # Open the images\n",
    "    image1 = Image.open(image1_path)\n",
    "    image2 = Image.open(image2_path)\n",
    "\n",
    "    # Ensure both images have the same size\n",
    "    if image1.size != image2.size:\n",
    "        raise ValueError(\"Images must have the same size\")\n",
    "\n",
    "    # Get the pixel data for both images\n",
    "    pixels1 = image1.load()\n",
    "    pixels2 = image2.load()\n",
    "\n",
    "    # Print positions of differing pixels\n",
    "    for i in range(image1.width):\n",
    "        for j in range(image1.height):\n",
    "            if pixels1[i, j] != pixels2[i, j]:\n",
    "                print(f\"Difference at position ({i}, {j})\")\n",
    "                differences = differences + 1\n",
    "\n",
    "    # Close the images\n",
    "    image1.close()\n",
    "    image2.close()\n",
    "    print(\"Cantidad de diferencias\", differences)\n",
    "\n",
    "if __name__ == \"__main__\":\n",
    "\n",
    "\n",
    "    experiments = [\"exp-2-1\", \"exp-2-2\"]\n",
    "\n",
    "    base_path = \"..\\\\Datasets\"\n",
    "    first_image = 'all\\\\sequence.1\\\\step0.camera.png'\n",
    "\n",
    "    image1_path = f\"{base_path}\\\\{experiments[0]}\\\\{first_image}\"\n",
    "    image2_path = f\"{base_path}\\\\{experiments[1]}\\\\{first_image}\"\n",
    "\n",
    "    # Call the function to print differing pixel positions\n",
    "    print_diff_positions(image1_path, image2_path)\n"
   ]
  }
 ],
 "metadata": {
  "kernelspec": {
   "display_name": "Python 3",
   "language": "python",
   "name": "python3"
  },
  "language_info": {
   "codemirror_mode": {
    "name": "ipython",
    "version": 3
   },
   "file_extension": ".py",
   "mimetype": "text/x-python",
   "name": "python",
   "nbconvert_exporter": "python",
   "pygments_lexer": "ipython3",
   "version": "3.12.1"
  }
 },
 "nbformat": 4,
 "nbformat_minor": 2
}
